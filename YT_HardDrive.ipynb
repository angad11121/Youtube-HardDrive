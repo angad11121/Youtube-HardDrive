{
  "nbformat": 4,
  "nbformat_minor": 0,
  "metadata": {
    "colab": {
      "provenance": []
    },
    "kernelspec": {
      "name": "python3",
      "display_name": "Python 3"
    },
    "language_info": {
      "name": "python"
    }
  },
  "cells": [
    {
      "cell_type": "code",
      "source": [
        "import math\n",
        "import json\n",
        "import PIL\n",
        "import numpy as np\n",
        "import cv2"
      ],
      "metadata": {
        "id": "gWdvg3gr058C"
      },
      "execution_count": null,
      "outputs": []
    },
    {
      "cell_type": "code",
      "execution_count": null,
      "metadata": {
        "id": "_v82WeAZyyIy"
      },
      "outputs": [],
      "source": [
        "!wget \"https://i2.wp.com/i.imgflip.com/3iezri.jpg\""
      ]
    },
    {
      "cell_type": "code",
      "source": [
        "f =open(\"image.jpg\",\"rb\")\n",
        "data = f.read()\n",
        "\n",
        "yt_data = {\n",
        "    \"sanity_check\":\"you are sane!\",\n",
        "    \"current_format\":\"json\",\n",
        "    \"file_name\":\"image.jpg\",\n",
        "    \"flag\":\"This is not a CTF!!\",\n",
        "    \"data\": str(data)\n",
        "}\n",
        "yt_string = json.dumps(yt_data)\n",
        "yt_binary = ''.join(format(ord(i), '08b') for i in yt_string)"
      ],
      "metadata": {
        "id": "Aoa3w8hUziO0"
      },
      "execution_count": null,
      "outputs": []
    },
    {
      "cell_type": "code",
      "source": [
        "eval(json.loads(yt_string)['data'])"
      ],
      "metadata": {
        "id": "oHzovuQUynga"
      },
      "execution_count": null,
      "outputs": []
    },
    {
      "cell_type": "code",
      "source": [
        "num_frames = math.ceil(len(yt_binary)/108/192)\n",
        "list_im = []\n",
        "frame_size = 192*108\n",
        "for i in range(num_frames):\n",
        "  im_data = np.array([*yt_binary[i*frame_size:(i+1)*frame_size]],dtype=float)\n",
        "  im = np.pad(im_data,(0,frame_size-len(im_data)),constant_values=0.5).reshape(108,192).repeat(10,0).repeat(10,1) *255\n",
        "  im = im.astype('uint8')\n",
        "  # pil_im = PIL.Image.fromarray(im).convert(\"L\")\n",
        "  list_im.append(im)\n",
        "# print(im)\n",
        "# yt_binary[0*192*108:1*192*108]\n",
        "list_im[114]"
      ],
      "metadata": {
        "colab": {
          "base_uri": "https://localhost:8080/"
        },
        "id": "RzAPR5SD22ZU",
        "outputId": "bbe96ef0-2adc-49e8-eebf-a215984c6078"
      },
      "execution_count": null,
      "outputs": [
        {
          "output_type": "execute_result",
          "data": {
            "text/plain": [
              "array([[  0,   0,   0, ...,   0,   0,   0],\n",
              "       [  0,   0,   0, ...,   0,   0,   0],\n",
              "       [  0,   0,   0, ...,   0,   0,   0],\n",
              "       ...,\n",
              "       [127, 127, 127, ..., 127, 127, 127],\n",
              "       [127, 127, 127, ..., 127, 127, 127],\n",
              "       [127, 127, 127, ..., 127, 127, 127]], dtype=uint8)"
            ]
          },
          "metadata": {},
          "execution_count": 122
        }
      ]
    },
    {
      "cell_type": "code",
      "source": [
        "cv2.imwrite('color_img114.jpg', list_im[114])"
      ],
      "metadata": {
        "colab": {
          "base_uri": "https://localhost:8080/"
        },
        "id": "nv0l8I1UIy7l",
        "outputId": "85ce6a49-8b70-415f-feb0-0246e454843d"
      },
      "execution_count": null,
      "outputs": [
        {
          "output_type": "execute_result",
          "data": {
            "text/plain": [
              "True"
            ]
          },
          "metadata": {},
          "execution_count": 129
        }
      ]
    },
    {
      "cell_type": "code",
      "source": [
        "out = cv2.VideoWriter('output_video1.mp4',cv2.VideoWriter_fourcc(*'MP4V'), 30, (1920,1080),False)\n",
        "for frame_im in list_im:\n",
        "  out.write(frame_im)\n",
        "out.release()"
      ],
      "metadata": {
        "id": "lNQFLwCDGmfV"
      },
      "execution_count": null,
      "outputs": []
    },
    {
      "cell_type": "code",
      "source": [
        "my_int = int(yt_binary,base=2)\n",
        "my_str =(my_int).to_bytes((my_int.bit_length() + 7)//8, 'big').decode()\n",
        "json.loads(my_str)"
      ],
      "metadata": {
        "id": "89qeoEBa6l83"
      },
      "execution_count": null,
      "outputs": []
    }
  ]
}